{
 "cells": [
  {
   "cell_type": "code",
   "execution_count": 4,
   "id": "5037c79f-f7e0-4439-ac34-4303d68116e5",
   "metadata": {},
   "outputs": [],
   "source": [
    "import pandas as pd"
   ]
  },
  {
   "cell_type": "code",
   "execution_count": 21,
   "id": "f1d8884f-ffd3-4946-bb57-8dbe147bae76",
   "metadata": {},
   "outputs": [],
   "source": [
    "matches = pd.read_csv(\"matches.csv\", index_col = 0)"
   ]
  },
  {
   "cell_type": "code",
   "execution_count": 22,
   "id": "8aea24ac-f8c2-442d-8fc8-5e270b6f5147",
   "metadata": {
    "tags": []
   },
   "outputs": [
    {
     "data": {
      "text/html": [
       "<div>\n",
       "<style scoped>\n",
       "    .dataframe tbody tr th:only-of-type {\n",
       "        vertical-align: middle;\n",
       "    }\n",
       "\n",
       "    .dataframe tbody tr th {\n",
       "        vertical-align: top;\n",
       "    }\n",
       "\n",
       "    .dataframe thead th {\n",
       "        text-align: right;\n",
       "    }\n",
       "</style>\n",
       "<table border=\"1\" class=\"dataframe\">\n",
       "  <thead>\n",
       "    <tr style=\"text-align: right;\">\n",
       "      <th></th>\n",
       "      <th>Wk</th>\n",
       "      <th>Date</th>\n",
       "      <th>Home</th>\n",
       "      <th>HomeGoals</th>\n",
       "      <th>AwayGoals</th>\n",
       "      <th>Away</th>\n",
       "      <th>FTR</th>\n",
       "    </tr>\n",
       "    <tr>\n",
       "      <th>Season_End_Year</th>\n",
       "      <th></th>\n",
       "      <th></th>\n",
       "      <th></th>\n",
       "      <th></th>\n",
       "      <th></th>\n",
       "      <th></th>\n",
       "      <th></th>\n",
       "    </tr>\n",
       "  </thead>\n",
       "  <tbody>\n",
       "    <tr>\n",
       "      <th>1993</th>\n",
       "      <td>1</td>\n",
       "      <td>1992-08-15</td>\n",
       "      <td>Coventry City</td>\n",
       "      <td>2</td>\n",
       "      <td>1</td>\n",
       "      <td>Middlesbrough</td>\n",
       "      <td>H</td>\n",
       "    </tr>\n",
       "    <tr>\n",
       "      <th>1993</th>\n",
       "      <td>1</td>\n",
       "      <td>1992-08-15</td>\n",
       "      <td>Leeds United</td>\n",
       "      <td>2</td>\n",
       "      <td>1</td>\n",
       "      <td>Wimbledon</td>\n",
       "      <td>H</td>\n",
       "    </tr>\n",
       "    <tr>\n",
       "      <th>1993</th>\n",
       "      <td>1</td>\n",
       "      <td>1992-08-15</td>\n",
       "      <td>Sheffield Utd</td>\n",
       "      <td>2</td>\n",
       "      <td>1</td>\n",
       "      <td>Manchester Utd</td>\n",
       "      <td>H</td>\n",
       "    </tr>\n",
       "    <tr>\n",
       "      <th>1993</th>\n",
       "      <td>1</td>\n",
       "      <td>1992-08-15</td>\n",
       "      <td>Crystal Palace</td>\n",
       "      <td>3</td>\n",
       "      <td>3</td>\n",
       "      <td>Blackburn</td>\n",
       "      <td>D</td>\n",
       "    </tr>\n",
       "    <tr>\n",
       "      <th>1993</th>\n",
       "      <td>1</td>\n",
       "      <td>1992-08-15</td>\n",
       "      <td>Arsenal</td>\n",
       "      <td>2</td>\n",
       "      <td>4</td>\n",
       "      <td>Norwich City</td>\n",
       "      <td>A</td>\n",
       "    </tr>\n",
       "  </tbody>\n",
       "</table>\n",
       "</div>"
      ],
      "text/plain": [
       "                 Wk        Date            Home  HomeGoals  AwayGoals  \\\n",
       "Season_End_Year                                                         \n",
       "1993              1  1992-08-15   Coventry City          2          1   \n",
       "1993              1  1992-08-15    Leeds United          2          1   \n",
       "1993              1  1992-08-15   Sheffield Utd          2          1   \n",
       "1993              1  1992-08-15  Crystal Palace          3          3   \n",
       "1993              1  1992-08-15         Arsenal          2          4   \n",
       "\n",
       "                           Away FTR  \n",
       "Season_End_Year                      \n",
       "1993              Middlesbrough   H  \n",
       "1993                  Wimbledon   H  \n",
       "1993             Manchester Utd   H  \n",
       "1993                  Blackburn   D  \n",
       "1993               Norwich City   A  "
      ]
     },
     "execution_count": 22,
     "metadata": {},
     "output_type": "execute_result"
    }
   ],
   "source": [
    "matches.head()"
   ]
  },
  {
   "cell_type": "code",
   "execution_count": 23,
   "id": "d78d9c42-0857-4f39-826c-9892e4eb0ab6",
   "metadata": {
    "tags": []
   },
   "outputs": [
    {
     "data": {
      "text/plain": [
       "(12026, 7)"
      ]
     },
     "execution_count": 23,
     "metadata": {},
     "output_type": "execute_result"
    }
   ],
   "source": [
    "matches.shape"
   ]
  },
  {
   "cell_type": "code",
   "execution_count": 27,
   "id": "ebda46ec-d0e1-46a5-a0c6-3c0c2e1683fb",
   "metadata": {
    "tags": []
   },
   "outputs": [
    {
     "data": {
      "text/plain": [
       "22800"
      ]
     },
     "execution_count": 27,
     "metadata": {},
     "output_type": "execute_result"
    }
   ],
   "source": [
    "38 * 20 * 30"
   ]
  },
  {
   "cell_type": "code",
   "execution_count": 29,
   "id": "4a6e3196-4571-4326-80e3-bb9ce175304a",
   "metadata": {
    "tags": []
   },
   "outputs": [
    {
     "data": {
      "text/plain": [
       "FTR\n",
       "H    5519\n",
       "A    3410\n",
       "D    3097\n",
       "Name: count, dtype: int64"
      ]
     },
     "execution_count": 29,
     "metadata": {},
     "output_type": "execute_result"
    }
   ],
   "source": [
    "matches[\"FTR\"].value_counts()"
   ]
  },
  {
   "cell_type": "code",
   "execution_count": 32,
   "id": "08c3916e-93ea-424c-ba93-e00951268275",
   "metadata": {
    "tags": []
   },
   "outputs": [
    {
     "data": {
      "text/plain": [
       "Wk\n",
       "1     313\n",
       "30    313\n",
       "23    313\n",
       "24    313\n",
       "28    313\n",
       "25    313\n",
       "26    313\n",
       "27    313\n",
       "29    313\n",
       "33    313\n",
       "21    313\n",
       "31    313\n",
       "32    313\n",
       "34    313\n",
       "35    313\n",
       "36    313\n",
       "37    313\n",
       "38    313\n",
       "2     313\n",
       "22    313\n",
       "20    313\n",
       "10    313\n",
       "3     313\n",
       "4     313\n",
       "5     313\n",
       "6     313\n",
       "7     313\n",
       "8     313\n",
       "19    313\n",
       "9     313\n",
       "11    313\n",
       "12    313\n",
       "13    313\n",
       "14    313\n",
       "15    313\n",
       "16    313\n",
       "17    313\n",
       "18    313\n",
       "40     33\n",
       "39     33\n",
       "41     33\n",
       "42     33\n",
       "Name: count, dtype: int64"
      ]
     },
     "execution_count": 32,
     "metadata": {},
     "output_type": "execute_result"
    }
   ],
   "source": [
    "# checking the number of match weeks\n",
    "matches[\"Wk\"].value_counts()"
   ]
  },
  {
   "cell_type": "code",
   "execution_count": 33,
   "id": "e8cc12dd-6849-4306-a692-5d54c029d7ce",
   "metadata": {
    "tags": []
   },
   "outputs": [
    {
     "data": {
      "text/plain": [
       "Wk            int64\n",
       "Date         object\n",
       "Home         object\n",
       "HomeGoals     int64\n",
       "AwayGoals     int64\n",
       "Away         object\n",
       "FTR          object\n",
       "dtype: object"
      ]
     },
     "execution_count": 33,
     "metadata": {},
     "output_type": "execute_result"
    }
   ],
   "source": [
    "matches.dtypes"
   ]
  },
  {
   "cell_type": "code",
   "execution_count": 34,
   "id": "7be53cc6-3e15-4d41-869b-955d1ae3338e",
   "metadata": {
    "tags": []
   },
   "outputs": [],
   "source": [
    "matches[\"Date\"] = pd.to_datetime(matches[\"Date\"])"
   ]
  },
  {
   "cell_type": "code",
   "execution_count": 35,
   "id": "f86958bf-0ca1-4623-8923-73e35d0eb911",
   "metadata": {
    "tags": []
   },
   "outputs": [
    {
     "data": {
      "text/plain": [
       "Wk                    int64\n",
       "Date         datetime64[ns]\n",
       "Home                 object\n",
       "HomeGoals             int64\n",
       "AwayGoals             int64\n",
       "Away                 object\n",
       "FTR                  object\n",
       "dtype: object"
      ]
     },
     "execution_count": 35,
     "metadata": {},
     "output_type": "execute_result"
    }
   ],
   "source": [
    "matches.dtypes"
   ]
  },
  {
   "cell_type": "code",
   "execution_count": 36,
   "id": "d4f1f2a2-73d7-4553-ac61-3b37df6f1761",
   "metadata": {
    "tags": []
   },
   "outputs": [],
   "source": [
    "matches[\"Home_adv_code\"] = matches[\"Home\"].astype(\"category\").cat.codes"
   ]
  },
  {
   "cell_type": "code",
   "execution_count": 38,
   "id": "a452582f-edb0-4079-ac1a-92bd760eba49",
   "metadata": {
    "tags": []
   },
   "outputs": [],
   "source": [
    "matches[\"Away_adv_code\"] = matches[\"Away\"].astype(\"category\").cat.codes"
   ]
  },
  {
   "cell_type": "code",
   "execution_count": 40,
   "id": "a3ce4149-e67e-4ab6-9f85-a3e75ea39886",
   "metadata": {
    "tags": []
   },
   "outputs": [],
   "source": [
    "matches[\"day_code\"] = matches[\"Date\"].dt.dayofweek"
   ]
  },
  {
   "cell_type": "code",
   "execution_count": 44,
   "id": "677bafcb-b707-4231-b0a3-a5cbd4aa04ef",
   "metadata": {
    "tags": []
   },
   "outputs": [],
   "source": [
    "matches[\"target\"] = (matches[\"FTR\"] == \"H\").astype(\"int\")"
   ]
  },
  {
   "cell_type": "code",
   "execution_count": 46,
   "id": "bc24e84a-2fbe-49d1-96c2-ee9e33cdf747",
   "metadata": {
    "tags": []
   },
   "outputs": [],
   "source": [
    "# machine learning model\n",
    "from sklearn.ensemble import RandomForestClassifier"
   ]
  },
  {
   "cell_type": "code",
   "execution_count": 47,
   "id": "94b23b77-1411-4ce9-bdc3-7df261cd88fd",
   "metadata": {
    "tags": []
   },
   "outputs": [],
   "source": [
    "rf  = RandomForestClassifier(n_estimators=50, min_samples_split=10, random_state=1)"
   ]
  },
  {
   "cell_type": "code",
   "execution_count": 49,
   "id": "ee04a1cf-5d08-490b-bace-001a3d051503",
   "metadata": {
    "tags": []
   },
   "outputs": [],
   "source": [
    "# splitting the training data and test \n",
    "training = matches[matches[\"Date\"] < '2023-01-01']"
   ]
  },
  {
   "cell_type": "code",
   "execution_count": 50,
   "id": "b4ffdc00-f4e7-47ff-8547-080712903cba",
   "metadata": {
    "tags": []
   },
   "outputs": [],
   "source": [
    "# testing data\n",
    "testing  = matches[matches[\"Date\"] > '2023-01-01']"
   ]
  },
  {
   "cell_type": "code",
   "execution_count": 51,
   "id": "9ceea9ee-6440-4905-a39d-99c8facf9eb1",
   "metadata": {
    "tags": []
   },
   "outputs": [],
   "source": [
    "predictors = [\"Home_adv_code\", \"Away_adv_code\", \"day_code\"]"
   ]
  },
  {
   "cell_type": "code",
   "execution_count": 99,
   "id": "86ca6c74-07fd-41c1-a150-6893084c3cdf",
   "metadata": {
    "tags": []
   },
   "outputs": [
    {
     "data": {
      "text/html": [
       "<style>#sk-container-id-2 {color: black;}#sk-container-id-2 pre{padding: 0;}#sk-container-id-2 div.sk-toggleable {background-color: white;}#sk-container-id-2 label.sk-toggleable__label {cursor: pointer;display: block;width: 100%;margin-bottom: 0;padding: 0.3em;box-sizing: border-box;text-align: center;}#sk-container-id-2 label.sk-toggleable__label-arrow:before {content: \"▸\";float: left;margin-right: 0.25em;color: #696969;}#sk-container-id-2 label.sk-toggleable__label-arrow:hover:before {color: black;}#sk-container-id-2 div.sk-estimator:hover label.sk-toggleable__label-arrow:before {color: black;}#sk-container-id-2 div.sk-toggleable__content {max-height: 0;max-width: 0;overflow: hidden;text-align: left;background-color: #f0f8ff;}#sk-container-id-2 div.sk-toggleable__content pre {margin: 0.2em;color: black;border-radius: 0.25em;background-color: #f0f8ff;}#sk-container-id-2 input.sk-toggleable__control:checked~div.sk-toggleable__content {max-height: 200px;max-width: 100%;overflow: auto;}#sk-container-id-2 input.sk-toggleable__control:checked~label.sk-toggleable__label-arrow:before {content: \"▾\";}#sk-container-id-2 div.sk-estimator input.sk-toggleable__control:checked~label.sk-toggleable__label {background-color: #d4ebff;}#sk-container-id-2 div.sk-label input.sk-toggleable__control:checked~label.sk-toggleable__label {background-color: #d4ebff;}#sk-container-id-2 input.sk-hidden--visually {border: 0;clip: rect(1px 1px 1px 1px);clip: rect(1px, 1px, 1px, 1px);height: 1px;margin: -1px;overflow: hidden;padding: 0;position: absolute;width: 1px;}#sk-container-id-2 div.sk-estimator {font-family: monospace;background-color: #f0f8ff;border: 1px dotted black;border-radius: 0.25em;box-sizing: border-box;margin-bottom: 0.5em;}#sk-container-id-2 div.sk-estimator:hover {background-color: #d4ebff;}#sk-container-id-2 div.sk-parallel-item::after {content: \"\";width: 100%;border-bottom: 1px solid gray;flex-grow: 1;}#sk-container-id-2 div.sk-label:hover label.sk-toggleable__label {background-color: #d4ebff;}#sk-container-id-2 div.sk-serial::before {content: \"\";position: absolute;border-left: 1px solid gray;box-sizing: border-box;top: 0;bottom: 0;left: 50%;z-index: 0;}#sk-container-id-2 div.sk-serial {display: flex;flex-direction: column;align-items: center;background-color: white;padding-right: 0.2em;padding-left: 0.2em;position: relative;}#sk-container-id-2 div.sk-item {position: relative;z-index: 1;}#sk-container-id-2 div.sk-parallel {display: flex;align-items: stretch;justify-content: center;background-color: white;position: relative;}#sk-container-id-2 div.sk-item::before, #sk-container-id-2 div.sk-parallel-item::before {content: \"\";position: absolute;border-left: 1px solid gray;box-sizing: border-box;top: 0;bottom: 0;left: 50%;z-index: -1;}#sk-container-id-2 div.sk-parallel-item {display: flex;flex-direction: column;z-index: 1;position: relative;background-color: white;}#sk-container-id-2 div.sk-parallel-item:first-child::after {align-self: flex-end;width: 50%;}#sk-container-id-2 div.sk-parallel-item:last-child::after {align-self: flex-start;width: 50%;}#sk-container-id-2 div.sk-parallel-item:only-child::after {width: 0;}#sk-container-id-2 div.sk-dashed-wrapped {border: 1px dashed gray;margin: 0 0.4em 0.5em 0.4em;box-sizing: border-box;padding-bottom: 0.4em;background-color: white;}#sk-container-id-2 div.sk-label label {font-family: monospace;font-weight: bold;display: inline-block;line-height: 1.2em;}#sk-container-id-2 div.sk-label-container {text-align: center;}#sk-container-id-2 div.sk-container {/* jupyter's `normalize.less` sets `[hidden] { display: none; }` but bootstrap.min.css set `[hidden] { display: none !important; }` so we also need the `!important` here to be able to override the default hidden behavior on the sphinx rendered scikit-learn.org. See: https://github.com/scikit-learn/scikit-learn/issues/21755 */display: inline-block !important;position: relative;}#sk-container-id-2 div.sk-text-repr-fallback {display: none;}</style><div id=\"sk-container-id-2\" class=\"sk-top-container\"><div class=\"sk-text-repr-fallback\"><pre>RandomForestClassifier(min_samples_split=10, n_estimators=50, random_state=1)</pre><b>In a Jupyter environment, please rerun this cell to show the HTML representation or trust the notebook. <br />On GitHub, the HTML representation is unable to render, please try loading this page with nbviewer.org.</b></div><div class=\"sk-container\" hidden><div class=\"sk-item\"><div class=\"sk-estimator sk-toggleable\"><input class=\"sk-toggleable__control sk-hidden--visually\" id=\"sk-estimator-id-2\" type=\"checkbox\" checked><label for=\"sk-estimator-id-2\" class=\"sk-toggleable__label sk-toggleable__label-arrow\">RandomForestClassifier</label><div class=\"sk-toggleable__content\"><pre>RandomForestClassifier(min_samples_split=10, n_estimators=50, random_state=1)</pre></div></div></div></div></div>"
      ],
      "text/plain": [
       "RandomForestClassifier(min_samples_split=10, n_estimators=50, random_state=1)"
      ]
     },
     "execution_count": 99,
     "metadata": {},
     "output_type": "execute_result"
    }
   ],
   "source": [
    "rf.fit(training[predictors], training[\"target\"])"
   ]
  },
  {
   "cell_type": "code",
   "execution_count": 100,
   "id": "b8aadf0d-0fc3-4fdc-bed1-daf53b8b23c2",
   "metadata": {
    "tags": []
   },
   "outputs": [],
   "source": [
    "newPredictors = rf.predict(testing[predictors])"
   ]
  },
  {
   "cell_type": "code",
   "execution_count": 101,
   "id": "312e7876-653c-4d26-9378-cd76c079470e",
   "metadata": {
    "tags": []
   },
   "outputs": [],
   "source": [
    "from sklearn.metrics import accuracy_score"
   ]
  },
  {
   "cell_type": "code",
   "execution_count": 102,
   "id": "c7cd79a6-e15c-4f13-b4b0-1d9f8d84de0e",
   "metadata": {
    "tags": []
   },
   "outputs": [],
   "source": [
    "acc = accuracy_score(testing[\"target\"], newPredictors)"
   ]
  },
  {
   "cell_type": "code",
   "execution_count": 103,
   "id": "1f480b9b-7651-44fa-b809-3e975a3a8fc4",
   "metadata": {
    "tags": []
   },
   "outputs": [
    {
     "data": {
      "text/plain": [
       "0.5841121495327103"
      ]
     },
     "execution_count": 103,
     "metadata": {},
     "output_type": "execute_result"
    }
   ],
   "source": [
    "# predicting the accuracy of the intial model \n",
    "acc"
   ]
  },
  {
   "cell_type": "code",
   "execution_count": 104,
   "id": "a602a59f-bb4b-45e1-85ac-c15d18bd47f6",
   "metadata": {
    "tags": []
   },
   "outputs": [],
   "source": [
    "combined = pd.DataFrame(dict(actual=testing[\"target\"], prediction=newPredictors))"
   ]
  },
  {
   "cell_type": "code",
   "execution_count": 105,
   "id": "fe06176e-71d0-4609-a050-c10654cdea83",
   "metadata": {
    "tags": []
   },
   "outputs": [
    {
     "data": {
      "text/html": [
       "<div>\n",
       "<style scoped>\n",
       "    .dataframe tbody tr th:only-of-type {\n",
       "        vertical-align: middle;\n",
       "    }\n",
       "\n",
       "    .dataframe tbody tr th {\n",
       "        vertical-align: top;\n",
       "    }\n",
       "\n",
       "    .dataframe thead th {\n",
       "        text-align: right;\n",
       "    }\n",
       "</style>\n",
       "<table border=\"1\" class=\"dataframe\">\n",
       "  <thead>\n",
       "    <tr style=\"text-align: right;\">\n",
       "      <th>prediction</th>\n",
       "      <th>0</th>\n",
       "      <th>1</th>\n",
       "    </tr>\n",
       "    <tr>\n",
       "      <th>actual</th>\n",
       "      <th></th>\n",
       "      <th></th>\n",
       "    </tr>\n",
       "  </thead>\n",
       "  <tbody>\n",
       "    <tr>\n",
       "      <th>0</th>\n",
       "      <td>75</td>\n",
       "      <td>32</td>\n",
       "    </tr>\n",
       "    <tr>\n",
       "      <th>1</th>\n",
       "      <td>57</td>\n",
       "      <td>50</td>\n",
       "    </tr>\n",
       "  </tbody>\n",
       "</table>\n",
       "</div>"
      ],
      "text/plain": [
       "prediction   0   1\n",
       "actual            \n",
       "0           75  32\n",
       "1           57  50"
      ]
     },
     "execution_count": 105,
     "metadata": {},
     "output_type": "execute_result"
    }
   ],
   "source": [
    "pd.crosstab(index=combined[\"actual\"], columns=combined[\"prediction\"])"
   ]
  },
  {
   "cell_type": "code",
   "execution_count": 106,
   "id": "c950ed8e-c3c4-4754-b6e4-4e4e858ee456",
   "metadata": {
    "tags": []
   },
   "outputs": [],
   "source": [
    "from sklearn.metrics import precision_score"
   ]
  },
  {
   "cell_type": "code",
   "execution_count": 107,
   "id": "3149fa24-1eeb-411f-897a-43cec92e0a20",
   "metadata": {
    "tags": []
   },
   "outputs": [
    {
     "data": {
      "text/plain": [
       "0.6097560975609756"
      ]
     },
     "execution_count": 107,
     "metadata": {},
     "output_type": "execute_result"
    }
   ],
   "source": [
    "precision_score(testing[\"target\"], newPredictors)"
   ]
  },
  {
   "cell_type": "code",
   "execution_count": 108,
   "id": "7fe1183d-641f-42f3-8ccb-b08c0b1b4f8b",
   "metadata": {
    "tags": []
   },
   "outputs": [],
   "source": [
    "group_matches = matches.groupby(\"Home\")"
   ]
  },
  {
   "cell_type": "code",
   "execution_count": 109,
   "id": "0f02f5c2-e880-468d-a5ba-e7911200c385",
   "metadata": {
    "tags": []
   },
   "outputs": [],
   "source": [
    "group = group_matches.get_group(\"Liverpool\")"
   ]
  },
  {
   "cell_type": "code",
   "execution_count": 110,
   "id": "5eb561d3-12c1-43f0-b6e7-9ee506d2e8d7",
   "metadata": {
    "tags": []
   },
   "outputs": [
    {
     "data": {
      "text/html": [
       "<div>\n",
       "<style scoped>\n",
       "    .dataframe tbody tr th:only-of-type {\n",
       "        vertical-align: middle;\n",
       "    }\n",
       "\n",
       "    .dataframe tbody tr th {\n",
       "        vertical-align: top;\n",
       "    }\n",
       "\n",
       "    .dataframe thead th {\n",
       "        text-align: right;\n",
       "    }\n",
       "</style>\n",
       "<table border=\"1\" class=\"dataframe\">\n",
       "  <thead>\n",
       "    <tr style=\"text-align: right;\">\n",
       "      <th></th>\n",
       "      <th>Wk</th>\n",
       "      <th>Date</th>\n",
       "      <th>Home</th>\n",
       "      <th>HomeGoals</th>\n",
       "      <th>AwayGoals</th>\n",
       "      <th>Away</th>\n",
       "      <th>FTR</th>\n",
       "      <th>Home_adv_code</th>\n",
       "      <th>Away_adv_code</th>\n",
       "      <th>day_code</th>\n",
       "      <th>target</th>\n",
       "    </tr>\n",
       "    <tr>\n",
       "      <th>Season_End_Year</th>\n",
       "      <th></th>\n",
       "      <th></th>\n",
       "      <th></th>\n",
       "      <th></th>\n",
       "      <th></th>\n",
       "      <th></th>\n",
       "      <th></th>\n",
       "      <th></th>\n",
       "      <th></th>\n",
       "      <th></th>\n",
       "      <th></th>\n",
       "    </tr>\n",
       "  </thead>\n",
       "  <tbody>\n",
       "    <tr>\n",
       "      <th>1993</th>\n",
       "      <td>2</td>\n",
       "      <td>1992-08-19</td>\n",
       "      <td>Liverpool</td>\n",
       "      <td>2</td>\n",
       "      <td>1</td>\n",
       "      <td>Sheffield Utd</td>\n",
       "      <td>H</td>\n",
       "      <td>25</td>\n",
       "      <td>36</td>\n",
       "      <td>2</td>\n",
       "      <td>1</td>\n",
       "    </tr>\n",
       "    <tr>\n",
       "      <th>1993</th>\n",
       "      <td>3</td>\n",
       "      <td>1992-08-23</td>\n",
       "      <td>Liverpool</td>\n",
       "      <td>0</td>\n",
       "      <td>2</td>\n",
       "      <td>Arsenal</td>\n",
       "      <td>A</td>\n",
       "      <td>25</td>\n",
       "      <td>0</td>\n",
       "      <td>6</td>\n",
       "      <td>0</td>\n",
       "    </tr>\n",
       "    <tr>\n",
       "      <th>1993</th>\n",
       "      <td>6</td>\n",
       "      <td>1992-09-01</td>\n",
       "      <td>Liverpool</td>\n",
       "      <td>1</td>\n",
       "      <td>1</td>\n",
       "      <td>Southampton</td>\n",
       "      <td>D</td>\n",
       "      <td>25</td>\n",
       "      <td>38</td>\n",
       "      <td>1</td>\n",
       "      <td>0</td>\n",
       "    </tr>\n",
       "    <tr>\n",
       "      <th>1993</th>\n",
       "      <td>7</td>\n",
       "      <td>1992-09-05</td>\n",
       "      <td>Liverpool</td>\n",
       "      <td>2</td>\n",
       "      <td>1</td>\n",
       "      <td>Chelsea</td>\n",
       "      <td>H</td>\n",
       "      <td>25</td>\n",
       "      <td>14</td>\n",
       "      <td>5</td>\n",
       "      <td>1</td>\n",
       "    </tr>\n",
       "    <tr>\n",
       "      <th>1993</th>\n",
       "      <td>10</td>\n",
       "      <td>1992-09-26</td>\n",
       "      <td>Liverpool</td>\n",
       "      <td>2</td>\n",
       "      <td>3</td>\n",
       "      <td>Wimbledon</td>\n",
       "      <td>A</td>\n",
       "      <td>25</td>\n",
       "      <td>48</td>\n",
       "      <td>5</td>\n",
       "      <td>0</td>\n",
       "    </tr>\n",
       "    <tr>\n",
       "      <th>...</th>\n",
       "      <td>...</td>\n",
       "      <td>...</td>\n",
       "      <td>...</td>\n",
       "      <td>...</td>\n",
       "      <td>...</td>\n",
       "      <td>...</td>\n",
       "      <td>...</td>\n",
       "      <td>...</td>\n",
       "      <td>...</td>\n",
       "      <td>...</td>\n",
       "      <td>...</td>\n",
       "    </tr>\n",
       "    <tr>\n",
       "      <th>2023</th>\n",
       "      <td>32</td>\n",
       "      <td>2023-04-22</td>\n",
       "      <td>Liverpool</td>\n",
       "      <td>3</td>\n",
       "      <td>2</td>\n",
       "      <td>Nott'ham Forest</td>\n",
       "      <td>H</td>\n",
       "      <td>25</td>\n",
       "      <td>31</td>\n",
       "      <td>5</td>\n",
       "      <td>1</td>\n",
       "    </tr>\n",
       "    <tr>\n",
       "      <th>2023</th>\n",
       "      <td>34</td>\n",
       "      <td>2023-04-30</td>\n",
       "      <td>Liverpool</td>\n",
       "      <td>4</td>\n",
       "      <td>3</td>\n",
       "      <td>Tottenham</td>\n",
       "      <td>H</td>\n",
       "      <td>25</td>\n",
       "      <td>43</td>\n",
       "      <td>6</td>\n",
       "      <td>1</td>\n",
       "    </tr>\n",
       "    <tr>\n",
       "      <th>2023</th>\n",
       "      <td>28</td>\n",
       "      <td>2023-05-03</td>\n",
       "      <td>Liverpool</td>\n",
       "      <td>1</td>\n",
       "      <td>0</td>\n",
       "      <td>Fulham</td>\n",
       "      <td>H</td>\n",
       "      <td>25</td>\n",
       "      <td>19</td>\n",
       "      <td>2</td>\n",
       "      <td>1</td>\n",
       "    </tr>\n",
       "    <tr>\n",
       "      <th>2023</th>\n",
       "      <td>35</td>\n",
       "      <td>2023-05-06</td>\n",
       "      <td>Liverpool</td>\n",
       "      <td>1</td>\n",
       "      <td>0</td>\n",
       "      <td>Brentford</td>\n",
       "      <td>H</td>\n",
       "      <td>25</td>\n",
       "      <td>9</td>\n",
       "      <td>5</td>\n",
       "      <td>1</td>\n",
       "    </tr>\n",
       "    <tr>\n",
       "      <th>2023</th>\n",
       "      <td>37</td>\n",
       "      <td>2023-05-20</td>\n",
       "      <td>Liverpool</td>\n",
       "      <td>1</td>\n",
       "      <td>1</td>\n",
       "      <td>Aston Villa</td>\n",
       "      <td>D</td>\n",
       "      <td>25</td>\n",
       "      <td>1</td>\n",
       "      <td>5</td>\n",
       "      <td>0</td>\n",
       "    </tr>\n",
       "  </tbody>\n",
       "</table>\n",
       "<p>595 rows × 11 columns</p>\n",
       "</div>"
      ],
      "text/plain": [
       "                 Wk       Date       Home  HomeGoals  AwayGoals  \\\n",
       "Season_End_Year                                                   \n",
       "1993              2 1992-08-19  Liverpool          2          1   \n",
       "1993              3 1992-08-23  Liverpool          0          2   \n",
       "1993              6 1992-09-01  Liverpool          1          1   \n",
       "1993              7 1992-09-05  Liverpool          2          1   \n",
       "1993             10 1992-09-26  Liverpool          2          3   \n",
       "...              ..        ...        ...        ...        ...   \n",
       "2023             32 2023-04-22  Liverpool          3          2   \n",
       "2023             34 2023-04-30  Liverpool          4          3   \n",
       "2023             28 2023-05-03  Liverpool          1          0   \n",
       "2023             35 2023-05-06  Liverpool          1          0   \n",
       "2023             37 2023-05-20  Liverpool          1          1   \n",
       "\n",
       "                            Away FTR  Home_adv_code  Away_adv_code  day_code  \\\n",
       "Season_End_Year                                                                \n",
       "1993               Sheffield Utd   H             25             36         2   \n",
       "1993                     Arsenal   A             25              0         6   \n",
       "1993                 Southampton   D             25             38         1   \n",
       "1993                     Chelsea   H             25             14         5   \n",
       "1993                   Wimbledon   A             25             48         5   \n",
       "...                          ...  ..            ...            ...       ...   \n",
       "2023             Nott'ham Forest   H             25             31         5   \n",
       "2023                   Tottenham   H             25             43         6   \n",
       "2023                      Fulham   H             25             19         2   \n",
       "2023                   Brentford   H             25              9         5   \n",
       "2023                 Aston Villa   D             25              1         5   \n",
       "\n",
       "                 target  \n",
       "Season_End_Year          \n",
       "1993                  1  \n",
       "1993                  0  \n",
       "1993                  0  \n",
       "1993                  1  \n",
       "1993                  0  \n",
       "...                 ...  \n",
       "2023                  1  \n",
       "2023                  1  \n",
       "2023                  1  \n",
       "2023                  1  \n",
       "2023                  0  \n",
       "\n",
       "[595 rows x 11 columns]"
      ]
     },
     "execution_count": 110,
     "metadata": {},
     "output_type": "execute_result"
    }
   ],
   "source": [
    "group"
   ]
  },
  {
   "cell_type": "code",
   "execution_count": 111,
   "id": "b00d68c3-52eb-4672-bc8a-bda45980e551",
   "metadata": {
    "tags": []
   },
   "outputs": [],
   "source": [
    "def rolling_averages(group, cols, new_cols):\n",
    "    group = group.sort_values(\"Date\")\n",
    "    rolling_stats = group[cols].rolling(3, closed=\"left\").mean()\n",
    "    group[new_cols] = rolling_stats\n",
    "    group = group.dropna(subset=new_cols)\n",
    "    return group"
   ]
  },
  {
   "cell_type": "code",
   "execution_count": 112,
   "id": "0705389a-b91b-4a19-83aa-b134dd8db579",
   "metadata": {
    "tags": []
   },
   "outputs": [],
   "source": [
    "cols = [\"HomeGoals\", \"AwayGoals\"]\n",
    "new_cols = [f\"{c}_rolling\" for c in cols]"
   ]
  },
  {
   "cell_type": "code",
   "execution_count": 113,
   "id": "8ed456c5-bdf4-4557-ab22-d0b823757b69",
   "metadata": {
    "tags": []
   },
   "outputs": [
    {
     "data": {
      "text/plain": [
       "['HomeGoals_rolling', 'AwayGoals_rolling']"
      ]
     },
     "execution_count": 113,
     "metadata": {},
     "output_type": "execute_result"
    }
   ],
   "source": [
    "new_cols"
   ]
  },
  {
   "cell_type": "code",
   "execution_count": 114,
   "id": "16ea8e6a-d81e-473e-bb40-f55c90acf334",
   "metadata": {
    "jupyter": {
     "source_hidden": true
    },
    "tags": []
   },
   "outputs": [
    {
     "data": {
      "text/html": [
       "<div>\n",
       "<style scoped>\n",
       "    .dataframe tbody tr th:only-of-type {\n",
       "        vertical-align: middle;\n",
       "    }\n",
       "\n",
       "    .dataframe tbody tr th {\n",
       "        vertical-align: top;\n",
       "    }\n",
       "\n",
       "    .dataframe thead th {\n",
       "        text-align: right;\n",
       "    }\n",
       "</style>\n",
       "<table border=\"1\" class=\"dataframe\">\n",
       "  <thead>\n",
       "    <tr style=\"text-align: right;\">\n",
       "      <th></th>\n",
       "      <th>Wk</th>\n",
       "      <th>Date</th>\n",
       "      <th>Home</th>\n",
       "      <th>HomeGoals</th>\n",
       "      <th>AwayGoals</th>\n",
       "      <th>Away</th>\n",
       "      <th>FTR</th>\n",
       "      <th>Home_adv_code</th>\n",
       "      <th>Away_adv_code</th>\n",
       "      <th>day_code</th>\n",
       "      <th>target</th>\n",
       "      <th>HomeGoals_rolling</th>\n",
       "      <th>AwayGoals_rolling</th>\n",
       "    </tr>\n",
       "    <tr>\n",
       "      <th>Season_End_Year</th>\n",
       "      <th></th>\n",
       "      <th></th>\n",
       "      <th></th>\n",
       "      <th></th>\n",
       "      <th></th>\n",
       "      <th></th>\n",
       "      <th></th>\n",
       "      <th></th>\n",
       "      <th></th>\n",
       "      <th></th>\n",
       "      <th></th>\n",
       "      <th></th>\n",
       "      <th></th>\n",
       "    </tr>\n",
       "  </thead>\n",
       "  <tbody>\n",
       "    <tr>\n",
       "      <th>1993</th>\n",
       "      <td>7</td>\n",
       "      <td>1992-09-05</td>\n",
       "      <td>Liverpool</td>\n",
       "      <td>2</td>\n",
       "      <td>1</td>\n",
       "      <td>Chelsea</td>\n",
       "      <td>H</td>\n",
       "      <td>25</td>\n",
       "      <td>14</td>\n",
       "      <td>5</td>\n",
       "      <td>1</td>\n",
       "      <td>1.000000</td>\n",
       "      <td>1.333333</td>\n",
       "    </tr>\n",
       "    <tr>\n",
       "      <th>1993</th>\n",
       "      <td>10</td>\n",
       "      <td>1992-09-26</td>\n",
       "      <td>Liverpool</td>\n",
       "      <td>2</td>\n",
       "      <td>3</td>\n",
       "      <td>Wimbledon</td>\n",
       "      <td>A</td>\n",
       "      <td>25</td>\n",
       "      <td>48</td>\n",
       "      <td>5</td>\n",
       "      <td>0</td>\n",
       "      <td>1.000000</td>\n",
       "      <td>1.333333</td>\n",
       "    </tr>\n",
       "    <tr>\n",
       "      <th>1993</th>\n",
       "      <td>11</td>\n",
       "      <td>1992-10-03</td>\n",
       "      <td>Liverpool</td>\n",
       "      <td>1</td>\n",
       "      <td>0</td>\n",
       "      <td>Sheffield Weds</td>\n",
       "      <td>H</td>\n",
       "      <td>25</td>\n",
       "      <td>37</td>\n",
       "      <td>5</td>\n",
       "      <td>1</td>\n",
       "      <td>1.666667</td>\n",
       "      <td>1.666667</td>\n",
       "    </tr>\n",
       "    <tr>\n",
       "      <th>1993</th>\n",
       "      <td>13</td>\n",
       "      <td>1992-10-25</td>\n",
       "      <td>Liverpool</td>\n",
       "      <td>4</td>\n",
       "      <td>1</td>\n",
       "      <td>Norwich City</td>\n",
       "      <td>H</td>\n",
       "      <td>25</td>\n",
       "      <td>30</td>\n",
       "      <td>6</td>\n",
       "      <td>1</td>\n",
       "      <td>1.666667</td>\n",
       "      <td>1.333333</td>\n",
       "    </tr>\n",
       "    <tr>\n",
       "      <th>1993</th>\n",
       "      <td>15</td>\n",
       "      <td>1992-11-07</td>\n",
       "      <td>Liverpool</td>\n",
       "      <td>4</td>\n",
       "      <td>1</td>\n",
       "      <td>Middlesbrough</td>\n",
       "      <td>H</td>\n",
       "      <td>25</td>\n",
       "      <td>28</td>\n",
       "      <td>5</td>\n",
       "      <td>1</td>\n",
       "      <td>2.333333</td>\n",
       "      <td>1.333333</td>\n",
       "    </tr>\n",
       "    <tr>\n",
       "      <th>...</th>\n",
       "      <td>...</td>\n",
       "      <td>...</td>\n",
       "      <td>...</td>\n",
       "      <td>...</td>\n",
       "      <td>...</td>\n",
       "      <td>...</td>\n",
       "      <td>...</td>\n",
       "      <td>...</td>\n",
       "      <td>...</td>\n",
       "      <td>...</td>\n",
       "      <td>...</td>\n",
       "      <td>...</td>\n",
       "      <td>...</td>\n",
       "    </tr>\n",
       "    <tr>\n",
       "      <th>2023</th>\n",
       "      <td>32</td>\n",
       "      <td>2023-04-22</td>\n",
       "      <td>Liverpool</td>\n",
       "      <td>3</td>\n",
       "      <td>2</td>\n",
       "      <td>Nott'ham Forest</td>\n",
       "      <td>H</td>\n",
       "      <td>25</td>\n",
       "      <td>31</td>\n",
       "      <td>5</td>\n",
       "      <td>1</td>\n",
       "      <td>3.666667</td>\n",
       "      <td>0.666667</td>\n",
       "    </tr>\n",
       "    <tr>\n",
       "      <th>2023</th>\n",
       "      <td>34</td>\n",
       "      <td>2023-04-30</td>\n",
       "      <td>Liverpool</td>\n",
       "      <td>4</td>\n",
       "      <td>3</td>\n",
       "      <td>Tottenham</td>\n",
       "      <td>H</td>\n",
       "      <td>25</td>\n",
       "      <td>43</td>\n",
       "      <td>6</td>\n",
       "      <td>1</td>\n",
       "      <td>4.000000</td>\n",
       "      <td>1.333333</td>\n",
       "    </tr>\n",
       "    <tr>\n",
       "      <th>2023</th>\n",
       "      <td>28</td>\n",
       "      <td>2023-05-03</td>\n",
       "      <td>Liverpool</td>\n",
       "      <td>1</td>\n",
       "      <td>0</td>\n",
       "      <td>Fulham</td>\n",
       "      <td>H</td>\n",
       "      <td>25</td>\n",
       "      <td>19</td>\n",
       "      <td>2</td>\n",
       "      <td>1</td>\n",
       "      <td>3.000000</td>\n",
       "      <td>2.333333</td>\n",
       "    </tr>\n",
       "    <tr>\n",
       "      <th>2023</th>\n",
       "      <td>35</td>\n",
       "      <td>2023-05-06</td>\n",
       "      <td>Liverpool</td>\n",
       "      <td>1</td>\n",
       "      <td>0</td>\n",
       "      <td>Brentford</td>\n",
       "      <td>H</td>\n",
       "      <td>25</td>\n",
       "      <td>9</td>\n",
       "      <td>5</td>\n",
       "      <td>1</td>\n",
       "      <td>2.666667</td>\n",
       "      <td>1.666667</td>\n",
       "    </tr>\n",
       "    <tr>\n",
       "      <th>2023</th>\n",
       "      <td>37</td>\n",
       "      <td>2023-05-20</td>\n",
       "      <td>Liverpool</td>\n",
       "      <td>1</td>\n",
       "      <td>1</td>\n",
       "      <td>Aston Villa</td>\n",
       "      <td>D</td>\n",
       "      <td>25</td>\n",
       "      <td>1</td>\n",
       "      <td>5</td>\n",
       "      <td>0</td>\n",
       "      <td>2.000000</td>\n",
       "      <td>1.000000</td>\n",
       "    </tr>\n",
       "  </tbody>\n",
       "</table>\n",
       "<p>592 rows × 13 columns</p>\n",
       "</div>"
      ],
      "text/plain": [
       "                 Wk       Date       Home  HomeGoals  AwayGoals  \\\n",
       "Season_End_Year                                                   \n",
       "1993              7 1992-09-05  Liverpool          2          1   \n",
       "1993             10 1992-09-26  Liverpool          2          3   \n",
       "1993             11 1992-10-03  Liverpool          1          0   \n",
       "1993             13 1992-10-25  Liverpool          4          1   \n",
       "1993             15 1992-11-07  Liverpool          4          1   \n",
       "...              ..        ...        ...        ...        ...   \n",
       "2023             32 2023-04-22  Liverpool          3          2   \n",
       "2023             34 2023-04-30  Liverpool          4          3   \n",
       "2023             28 2023-05-03  Liverpool          1          0   \n",
       "2023             35 2023-05-06  Liverpool          1          0   \n",
       "2023             37 2023-05-20  Liverpool          1          1   \n",
       "\n",
       "                            Away FTR  Home_adv_code  Away_adv_code  day_code  \\\n",
       "Season_End_Year                                                                \n",
       "1993                     Chelsea   H             25             14         5   \n",
       "1993                   Wimbledon   A             25             48         5   \n",
       "1993              Sheffield Weds   H             25             37         5   \n",
       "1993                Norwich City   H             25             30         6   \n",
       "1993               Middlesbrough   H             25             28         5   \n",
       "...                          ...  ..            ...            ...       ...   \n",
       "2023             Nott'ham Forest   H             25             31         5   \n",
       "2023                   Tottenham   H             25             43         6   \n",
       "2023                      Fulham   H             25             19         2   \n",
       "2023                   Brentford   H             25              9         5   \n",
       "2023                 Aston Villa   D             25              1         5   \n",
       "\n",
       "                 target  HomeGoals_rolling  AwayGoals_rolling  \n",
       "Season_End_Year                                                \n",
       "1993                  1           1.000000           1.333333  \n",
       "1993                  0           1.000000           1.333333  \n",
       "1993                  1           1.666667           1.666667  \n",
       "1993                  1           1.666667           1.333333  \n",
       "1993                  1           2.333333           1.333333  \n",
       "...                 ...                ...                ...  \n",
       "2023                  1           3.666667           0.666667  \n",
       "2023                  1           4.000000           1.333333  \n",
       "2023                  1           3.000000           2.333333  \n",
       "2023                  1           2.666667           1.666667  \n",
       "2023                  0           2.000000           1.000000  \n",
       "\n",
       "[592 rows x 13 columns]"
      ]
     },
     "execution_count": 114,
     "metadata": {},
     "output_type": "execute_result"
    }
   ],
   "source": [
    "rolling_averages(group, cols, new_cols)"
   ]
  },
  {
   "cell_type": "code",
   "execution_count": 115,
   "id": "4ce22d43-7839-464b-a445-7f12186f1844",
   "metadata": {
    "tags": []
   },
   "outputs": [],
   "source": [
    "matches_rolling = matches.groupby(\"Home\").apply(lambda x: rolling_averages(x, cols, new_cols))"
   ]
  },
  {
   "cell_type": "code",
   "execution_count": 124,
   "id": "41eb5855-2c59-4a4e-a399-fb6a98664467",
   "metadata": {
    "tags": []
   },
   "outputs": [
    {
     "data": {
      "text/html": [
       "<div>\n",
       "<style scoped>\n",
       "    .dataframe tbody tr th:only-of-type {\n",
       "        vertical-align: middle;\n",
       "    }\n",
       "\n",
       "    .dataframe tbody tr th {\n",
       "        vertical-align: top;\n",
       "    }\n",
       "\n",
       "    .dataframe thead th {\n",
       "        text-align: right;\n",
       "    }\n",
       "</style>\n",
       "<table border=\"1\" class=\"dataframe\">\n",
       "  <thead>\n",
       "    <tr style=\"text-align: right;\">\n",
       "      <th></th>\n",
       "      <th>Wk</th>\n",
       "      <th>Date</th>\n",
       "      <th>Home</th>\n",
       "      <th>HomeGoals</th>\n",
       "      <th>AwayGoals</th>\n",
       "      <th>Away</th>\n",
       "      <th>FTR</th>\n",
       "      <th>Home_adv_code</th>\n",
       "      <th>Away_adv_code</th>\n",
       "      <th>day_code</th>\n",
       "      <th>target</th>\n",
       "      <th>HomeGoals_rolling</th>\n",
       "      <th>AwayGoals_rolling</th>\n",
       "    </tr>\n",
       "  </thead>\n",
       "  <tbody>\n",
       "    <tr>\n",
       "      <th>0</th>\n",
       "      <td>8</td>\n",
       "      <td>1992-09-12</td>\n",
       "      <td>Arsenal</td>\n",
       "      <td>0</td>\n",
       "      <td>1</td>\n",
       "      <td>Blackburn</td>\n",
       "      <td>A</td>\n",
       "      <td>0</td>\n",
       "      <td>4</td>\n",
       "      <td>5</td>\n",
       "      <td>0</td>\n",
       "      <td>2.000000</td>\n",
       "      <td>1.666667</td>\n",
       "    </tr>\n",
       "    <tr>\n",
       "      <th>1</th>\n",
       "      <td>10</td>\n",
       "      <td>1992-09-28</td>\n",
       "      <td>Arsenal</td>\n",
       "      <td>1</td>\n",
       "      <td>0</td>\n",
       "      <td>Manchester City</td>\n",
       "      <td>H</td>\n",
       "      <td>0</td>\n",
       "      <td>26</td>\n",
       "      <td>0</td>\n",
       "      <td>1</td>\n",
       "      <td>1.333333</td>\n",
       "      <td>0.666667</td>\n",
       "    </tr>\n",
       "    <tr>\n",
       "      <th>2</th>\n",
       "      <td>11</td>\n",
       "      <td>1992-10-03</td>\n",
       "      <td>Arsenal</td>\n",
       "      <td>2</td>\n",
       "      <td>1</td>\n",
       "      <td>Chelsea</td>\n",
       "      <td>H</td>\n",
       "      <td>0</td>\n",
       "      <td>14</td>\n",
       "      <td>5</td>\n",
       "      <td>1</td>\n",
       "      <td>1.000000</td>\n",
       "      <td>0.666667</td>\n",
       "    </tr>\n",
       "    <tr>\n",
       "      <th>3</th>\n",
       "      <td>13</td>\n",
       "      <td>1992-10-24</td>\n",
       "      <td>Arsenal</td>\n",
       "      <td>2</td>\n",
       "      <td>0</td>\n",
       "      <td>Everton</td>\n",
       "      <td>H</td>\n",
       "      <td>0</td>\n",
       "      <td>18</td>\n",
       "      <td>5</td>\n",
       "      <td>1</td>\n",
       "      <td>1.000000</td>\n",
       "      <td>0.666667</td>\n",
       "    </tr>\n",
       "    <tr>\n",
       "      <th>4</th>\n",
       "      <td>15</td>\n",
       "      <td>1992-11-07</td>\n",
       "      <td>Arsenal</td>\n",
       "      <td>3</td>\n",
       "      <td>0</td>\n",
       "      <td>Coventry City</td>\n",
       "      <td>H</td>\n",
       "      <td>0</td>\n",
       "      <td>15</td>\n",
       "      <td>5</td>\n",
       "      <td>1</td>\n",
       "      <td>1.666667</td>\n",
       "      <td>0.333333</td>\n",
       "    </tr>\n",
       "    <tr>\n",
       "      <th>...</th>\n",
       "      <td>...</td>\n",
       "      <td>...</td>\n",
       "      <td>...</td>\n",
       "      <td>...</td>\n",
       "      <td>...</td>\n",
       "      <td>...</td>\n",
       "      <td>...</td>\n",
       "      <td>...</td>\n",
       "      <td>...</td>\n",
       "      <td>...</td>\n",
       "      <td>...</td>\n",
       "      <td>...</td>\n",
       "      <td>...</td>\n",
       "    </tr>\n",
       "    <tr>\n",
       "      <th>11871</th>\n",
       "      <td>30</td>\n",
       "      <td>2023-04-08</td>\n",
       "      <td>Wolves</td>\n",
       "      <td>1</td>\n",
       "      <td>0</td>\n",
       "      <td>Chelsea</td>\n",
       "      <td>H</td>\n",
       "      <td>49</td>\n",
       "      <td>14</td>\n",
       "      <td>5</td>\n",
       "      <td>1</td>\n",
       "      <td>1.000000</td>\n",
       "      <td>1.666667</td>\n",
       "    </tr>\n",
       "    <tr>\n",
       "      <th>11872</th>\n",
       "      <td>31</td>\n",
       "      <td>2023-04-15</td>\n",
       "      <td>Wolves</td>\n",
       "      <td>2</td>\n",
       "      <td>0</td>\n",
       "      <td>Brentford</td>\n",
       "      <td>H</td>\n",
       "      <td>49</td>\n",
       "      <td>9</td>\n",
       "      <td>5</td>\n",
       "      <td>1</td>\n",
       "      <td>1.333333</td>\n",
       "      <td>1.333333</td>\n",
       "    </tr>\n",
       "    <tr>\n",
       "      <th>11873</th>\n",
       "      <td>33</td>\n",
       "      <td>2023-04-25</td>\n",
       "      <td>Wolves</td>\n",
       "      <td>2</td>\n",
       "      <td>0</td>\n",
       "      <td>Crystal Palace</td>\n",
       "      <td>H</td>\n",
       "      <td>49</td>\n",
       "      <td>16</td>\n",
       "      <td>1</td>\n",
       "      <td>1</td>\n",
       "      <td>1.666667</td>\n",
       "      <td>1.333333</td>\n",
       "    </tr>\n",
       "    <tr>\n",
       "      <th>11874</th>\n",
       "      <td>35</td>\n",
       "      <td>2023-05-06</td>\n",
       "      <td>Wolves</td>\n",
       "      <td>1</td>\n",
       "      <td>0</td>\n",
       "      <td>Aston Villa</td>\n",
       "      <td>H</td>\n",
       "      <td>49</td>\n",
       "      <td>1</td>\n",
       "      <td>5</td>\n",
       "      <td>1</td>\n",
       "      <td>1.666667</td>\n",
       "      <td>0.000000</td>\n",
       "    </tr>\n",
       "    <tr>\n",
       "      <th>11875</th>\n",
       "      <td>37</td>\n",
       "      <td>2023-05-20</td>\n",
       "      <td>Wolves</td>\n",
       "      <td>1</td>\n",
       "      <td>1</td>\n",
       "      <td>Everton</td>\n",
       "      <td>D</td>\n",
       "      <td>49</td>\n",
       "      <td>18</td>\n",
       "      <td>5</td>\n",
       "      <td>0</td>\n",
       "      <td>1.666667</td>\n",
       "      <td>0.000000</td>\n",
       "    </tr>\n",
       "  </tbody>\n",
       "</table>\n",
       "<p>11876 rows × 13 columns</p>\n",
       "</div>"
      ],
      "text/plain": [
       "       Wk       Date     Home  HomeGoals  AwayGoals             Away FTR  \\\n",
       "0       8 1992-09-12  Arsenal          0          1        Blackburn   A   \n",
       "1      10 1992-09-28  Arsenal          1          0  Manchester City   H   \n",
       "2      11 1992-10-03  Arsenal          2          1          Chelsea   H   \n",
       "3      13 1992-10-24  Arsenal          2          0          Everton   H   \n",
       "4      15 1992-11-07  Arsenal          3          0    Coventry City   H   \n",
       "...    ..        ...      ...        ...        ...              ...  ..   \n",
       "11871  30 2023-04-08   Wolves          1          0          Chelsea   H   \n",
       "11872  31 2023-04-15   Wolves          2          0        Brentford   H   \n",
       "11873  33 2023-04-25   Wolves          2          0   Crystal Palace   H   \n",
       "11874  35 2023-05-06   Wolves          1          0      Aston Villa   H   \n",
       "11875  37 2023-05-20   Wolves          1          1          Everton   D   \n",
       "\n",
       "       Home_adv_code  Away_adv_code  day_code  target  HomeGoals_rolling  \\\n",
       "0                  0              4         5       0           2.000000   \n",
       "1                  0             26         0       1           1.333333   \n",
       "2                  0             14         5       1           1.000000   \n",
       "3                  0             18         5       1           1.000000   \n",
       "4                  0             15         5       1           1.666667   \n",
       "...              ...            ...       ...     ...                ...   \n",
       "11871             49             14         5       1           1.000000   \n",
       "11872             49              9         5       1           1.333333   \n",
       "11873             49             16         1       1           1.666667   \n",
       "11874             49              1         5       1           1.666667   \n",
       "11875             49             18         5       0           1.666667   \n",
       "\n",
       "       AwayGoals_rolling  \n",
       "0               1.666667  \n",
       "1               0.666667  \n",
       "2               0.666667  \n",
       "3               0.666667  \n",
       "4               0.333333  \n",
       "...                  ...  \n",
       "11871           1.666667  \n",
       "11872           1.333333  \n",
       "11873           1.333333  \n",
       "11874           0.000000  \n",
       "11875           0.000000  \n",
       "\n",
       "[11876 rows x 13 columns]"
      ]
     },
     "execution_count": 124,
     "metadata": {},
     "output_type": "execute_result"
    }
   ],
   "source": [
    "matches_rolling"
   ]
  },
  {
   "cell_type": "code",
   "execution_count": 126,
   "id": "dc956160-eaa9-4d38-b77a-25772f35424a",
   "metadata": {
    "tags": []
   },
   "outputs": [],
   "source": [
    "matches_rolling.index = range(matches_rolling.shape[0])"
   ]
  },
  {
   "cell_type": "code",
   "execution_count": 127,
   "id": "9366dc93-201a-4308-b1d9-4ff020430cf7",
   "metadata": {
    "tags": []
   },
   "outputs": [
    {
     "data": {
      "text/html": [
       "<div>\n",
       "<style scoped>\n",
       "    .dataframe tbody tr th:only-of-type {\n",
       "        vertical-align: middle;\n",
       "    }\n",
       "\n",
       "    .dataframe tbody tr th {\n",
       "        vertical-align: top;\n",
       "    }\n",
       "\n",
       "    .dataframe thead th {\n",
       "        text-align: right;\n",
       "    }\n",
       "</style>\n",
       "<table border=\"1\" class=\"dataframe\">\n",
       "  <thead>\n",
       "    <tr style=\"text-align: right;\">\n",
       "      <th></th>\n",
       "      <th>Wk</th>\n",
       "      <th>Date</th>\n",
       "      <th>Home</th>\n",
       "      <th>HomeGoals</th>\n",
       "      <th>AwayGoals</th>\n",
       "      <th>Away</th>\n",
       "      <th>FTR</th>\n",
       "      <th>Home_adv_code</th>\n",
       "      <th>Away_adv_code</th>\n",
       "      <th>day_code</th>\n",
       "      <th>target</th>\n",
       "      <th>HomeGoals_rolling</th>\n",
       "      <th>AwayGoals_rolling</th>\n",
       "    </tr>\n",
       "  </thead>\n",
       "  <tbody>\n",
       "    <tr>\n",
       "      <th>0</th>\n",
       "      <td>8</td>\n",
       "      <td>1992-09-12</td>\n",
       "      <td>Arsenal</td>\n",
       "      <td>0</td>\n",
       "      <td>1</td>\n",
       "      <td>Blackburn</td>\n",
       "      <td>A</td>\n",
       "      <td>0</td>\n",
       "      <td>4</td>\n",
       "      <td>5</td>\n",
       "      <td>0</td>\n",
       "      <td>2.000000</td>\n",
       "      <td>1.666667</td>\n",
       "    </tr>\n",
       "    <tr>\n",
       "      <th>1</th>\n",
       "      <td>10</td>\n",
       "      <td>1992-09-28</td>\n",
       "      <td>Arsenal</td>\n",
       "      <td>1</td>\n",
       "      <td>0</td>\n",
       "      <td>Manchester City</td>\n",
       "      <td>H</td>\n",
       "      <td>0</td>\n",
       "      <td>26</td>\n",
       "      <td>0</td>\n",
       "      <td>1</td>\n",
       "      <td>1.333333</td>\n",
       "      <td>0.666667</td>\n",
       "    </tr>\n",
       "    <tr>\n",
       "      <th>2</th>\n",
       "      <td>11</td>\n",
       "      <td>1992-10-03</td>\n",
       "      <td>Arsenal</td>\n",
       "      <td>2</td>\n",
       "      <td>1</td>\n",
       "      <td>Chelsea</td>\n",
       "      <td>H</td>\n",
       "      <td>0</td>\n",
       "      <td>14</td>\n",
       "      <td>5</td>\n",
       "      <td>1</td>\n",
       "      <td>1.000000</td>\n",
       "      <td>0.666667</td>\n",
       "    </tr>\n",
       "    <tr>\n",
       "      <th>3</th>\n",
       "      <td>13</td>\n",
       "      <td>1992-10-24</td>\n",
       "      <td>Arsenal</td>\n",
       "      <td>2</td>\n",
       "      <td>0</td>\n",
       "      <td>Everton</td>\n",
       "      <td>H</td>\n",
       "      <td>0</td>\n",
       "      <td>18</td>\n",
       "      <td>5</td>\n",
       "      <td>1</td>\n",
       "      <td>1.000000</td>\n",
       "      <td>0.666667</td>\n",
       "    </tr>\n",
       "    <tr>\n",
       "      <th>4</th>\n",
       "      <td>15</td>\n",
       "      <td>1992-11-07</td>\n",
       "      <td>Arsenal</td>\n",
       "      <td>3</td>\n",
       "      <td>0</td>\n",
       "      <td>Coventry City</td>\n",
       "      <td>H</td>\n",
       "      <td>0</td>\n",
       "      <td>15</td>\n",
       "      <td>5</td>\n",
       "      <td>1</td>\n",
       "      <td>1.666667</td>\n",
       "      <td>0.333333</td>\n",
       "    </tr>\n",
       "    <tr>\n",
       "      <th>...</th>\n",
       "      <td>...</td>\n",
       "      <td>...</td>\n",
       "      <td>...</td>\n",
       "      <td>...</td>\n",
       "      <td>...</td>\n",
       "      <td>...</td>\n",
       "      <td>...</td>\n",
       "      <td>...</td>\n",
       "      <td>...</td>\n",
       "      <td>...</td>\n",
       "      <td>...</td>\n",
       "      <td>...</td>\n",
       "      <td>...</td>\n",
       "    </tr>\n",
       "    <tr>\n",
       "      <th>11871</th>\n",
       "      <td>30</td>\n",
       "      <td>2023-04-08</td>\n",
       "      <td>Wolves</td>\n",
       "      <td>1</td>\n",
       "      <td>0</td>\n",
       "      <td>Chelsea</td>\n",
       "      <td>H</td>\n",
       "      <td>49</td>\n",
       "      <td>14</td>\n",
       "      <td>5</td>\n",
       "      <td>1</td>\n",
       "      <td>1.000000</td>\n",
       "      <td>1.666667</td>\n",
       "    </tr>\n",
       "    <tr>\n",
       "      <th>11872</th>\n",
       "      <td>31</td>\n",
       "      <td>2023-04-15</td>\n",
       "      <td>Wolves</td>\n",
       "      <td>2</td>\n",
       "      <td>0</td>\n",
       "      <td>Brentford</td>\n",
       "      <td>H</td>\n",
       "      <td>49</td>\n",
       "      <td>9</td>\n",
       "      <td>5</td>\n",
       "      <td>1</td>\n",
       "      <td>1.333333</td>\n",
       "      <td>1.333333</td>\n",
       "    </tr>\n",
       "    <tr>\n",
       "      <th>11873</th>\n",
       "      <td>33</td>\n",
       "      <td>2023-04-25</td>\n",
       "      <td>Wolves</td>\n",
       "      <td>2</td>\n",
       "      <td>0</td>\n",
       "      <td>Crystal Palace</td>\n",
       "      <td>H</td>\n",
       "      <td>49</td>\n",
       "      <td>16</td>\n",
       "      <td>1</td>\n",
       "      <td>1</td>\n",
       "      <td>1.666667</td>\n",
       "      <td>1.333333</td>\n",
       "    </tr>\n",
       "    <tr>\n",
       "      <th>11874</th>\n",
       "      <td>35</td>\n",
       "      <td>2023-05-06</td>\n",
       "      <td>Wolves</td>\n",
       "      <td>1</td>\n",
       "      <td>0</td>\n",
       "      <td>Aston Villa</td>\n",
       "      <td>H</td>\n",
       "      <td>49</td>\n",
       "      <td>1</td>\n",
       "      <td>5</td>\n",
       "      <td>1</td>\n",
       "      <td>1.666667</td>\n",
       "      <td>0.000000</td>\n",
       "    </tr>\n",
       "    <tr>\n",
       "      <th>11875</th>\n",
       "      <td>37</td>\n",
       "      <td>2023-05-20</td>\n",
       "      <td>Wolves</td>\n",
       "      <td>1</td>\n",
       "      <td>1</td>\n",
       "      <td>Everton</td>\n",
       "      <td>D</td>\n",
       "      <td>49</td>\n",
       "      <td>18</td>\n",
       "      <td>5</td>\n",
       "      <td>0</td>\n",
       "      <td>1.666667</td>\n",
       "      <td>0.000000</td>\n",
       "    </tr>\n",
       "  </tbody>\n",
       "</table>\n",
       "<p>11876 rows × 13 columns</p>\n",
       "</div>"
      ],
      "text/plain": [
       "       Wk       Date     Home  HomeGoals  AwayGoals             Away FTR  \\\n",
       "0       8 1992-09-12  Arsenal          0          1        Blackburn   A   \n",
       "1      10 1992-09-28  Arsenal          1          0  Manchester City   H   \n",
       "2      11 1992-10-03  Arsenal          2          1          Chelsea   H   \n",
       "3      13 1992-10-24  Arsenal          2          0          Everton   H   \n",
       "4      15 1992-11-07  Arsenal          3          0    Coventry City   H   \n",
       "...    ..        ...      ...        ...        ...              ...  ..   \n",
       "11871  30 2023-04-08   Wolves          1          0          Chelsea   H   \n",
       "11872  31 2023-04-15   Wolves          2          0        Brentford   H   \n",
       "11873  33 2023-04-25   Wolves          2          0   Crystal Palace   H   \n",
       "11874  35 2023-05-06   Wolves          1          0      Aston Villa   H   \n",
       "11875  37 2023-05-20   Wolves          1          1          Everton   D   \n",
       "\n",
       "       Home_adv_code  Away_adv_code  day_code  target  HomeGoals_rolling  \\\n",
       "0                  0              4         5       0           2.000000   \n",
       "1                  0             26         0       1           1.333333   \n",
       "2                  0             14         5       1           1.000000   \n",
       "3                  0             18         5       1           1.000000   \n",
       "4                  0             15         5       1           1.666667   \n",
       "...              ...            ...       ...     ...                ...   \n",
       "11871             49             14         5       1           1.000000   \n",
       "11872             49              9         5       1           1.333333   \n",
       "11873             49             16         1       1           1.666667   \n",
       "11874             49              1         5       1           1.666667   \n",
       "11875             49             18         5       0           1.666667   \n",
       "\n",
       "       AwayGoals_rolling  \n",
       "0               1.666667  \n",
       "1               0.666667  \n",
       "2               0.666667  \n",
       "3               0.666667  \n",
       "4               0.333333  \n",
       "...                  ...  \n",
       "11871           1.666667  \n",
       "11872           1.333333  \n",
       "11873           1.333333  \n",
       "11874           0.000000  \n",
       "11875           0.000000  \n",
       "\n",
       "[11876 rows x 13 columns]"
      ]
     },
     "execution_count": 127,
     "metadata": {},
     "output_type": "execute_result"
    }
   ],
   "source": [
    "matches_rolling"
   ]
  },
  {
   "cell_type": "code",
   "execution_count": 133,
   "id": "c521bd39-f82f-4fa3-826f-e35d4b9c108d",
   "metadata": {
    "tags": []
   },
   "outputs": [],
   "source": [
    "def make_predictions(data, predictors):\n",
    "    training = data[data[\"Date\"] < '2023-01-01']\n",
    "    testing  = data[data[\"Date\"] > '2023-01-01']\n",
    "    rf.fit(training[predictors], training[\"target\"])\n",
    "    preds = rf.predict(testing[predictors])\n",
    "    combined = pd.DataFrame(dict(actual=testing[\"target\"], predicted=preds), index=testing.index)\n",
    "    precision = precision_score(testing[\"target\"], preds)\n",
    "    return combined,precision"
   ]
  },
  {
   "cell_type": "code",
   "execution_count": 136,
   "id": "b063ab89-7173-45cb-aa3b-725359e5320c",
   "metadata": {
    "tags": []
   },
   "outputs": [],
   "source": [
    "combined, precision = make_predictions(matches_rolling, predictors + new_cols)"
   ]
  },
  {
   "cell_type": "code",
   "execution_count": 137,
   "id": "90bf71d0-c9c8-4d8f-98a3-b087deefe92f",
   "metadata": {
    "tags": []
   },
   "outputs": [
    {
     "data": {
      "text/plain": [
       "0.6025641025641025"
      ]
     },
     "execution_count": 137,
     "metadata": {},
     "output_type": "execute_result"
    }
   ],
   "source": [
    "precision"
   ]
  },
  {
   "cell_type": "code",
   "execution_count": 139,
   "id": "2b938e96-b160-42f9-bd92-81119c95ddc8",
   "metadata": {
    "tags": []
   },
   "outputs": [
    {
     "data": {
      "text/html": [
       "<div>\n",
       "<style scoped>\n",
       "    .dataframe tbody tr th:only-of-type {\n",
       "        vertical-align: middle;\n",
       "    }\n",
       "\n",
       "    .dataframe tbody tr th {\n",
       "        vertical-align: top;\n",
       "    }\n",
       "\n",
       "    .dataframe thead th {\n",
       "        text-align: right;\n",
       "    }\n",
       "</style>\n",
       "<table border=\"1\" class=\"dataframe\">\n",
       "  <thead>\n",
       "    <tr style=\"text-align: right;\">\n",
       "      <th></th>\n",
       "      <th>actual</th>\n",
       "      <th>predicted</th>\n",
       "    </tr>\n",
       "  </thead>\n",
       "  <tbody>\n",
       "    <tr>\n",
       "      <th>580</th>\n",
       "      <td>0</td>\n",
       "      <td>1</td>\n",
       "    </tr>\n",
       "    <tr>\n",
       "      <th>581</th>\n",
       "      <td>1</td>\n",
       "      <td>1</td>\n",
       "    </tr>\n",
       "    <tr>\n",
       "      <th>582</th>\n",
       "      <td>0</td>\n",
       "      <td>1</td>\n",
       "    </tr>\n",
       "    <tr>\n",
       "      <th>583</th>\n",
       "      <td>0</td>\n",
       "      <td>0</td>\n",
       "    </tr>\n",
       "    <tr>\n",
       "      <th>584</th>\n",
       "      <td>1</td>\n",
       "      <td>0</td>\n",
       "    </tr>\n",
       "  </tbody>\n",
       "</table>\n",
       "</div>"
      ],
      "text/plain": [
       "     actual  predicted\n",
       "580       0          1\n",
       "581       1          1\n",
       "582       0          1\n",
       "583       0          0\n",
       "584       1          0"
      ]
     },
     "execution_count": 139,
     "metadata": {},
     "output_type": "execute_result"
    }
   ],
   "source": [
    "combined.head()\n"
   ]
  },
  {
   "cell_type": "code",
   "execution_count": null,
   "id": "3a985c89-2df0-4383-97c7-0cc5607336e1",
   "metadata": {},
   "outputs": [],
   "source": []
  }
 ],
 "metadata": {
  "kernelspec": {
   "display_name": "Python 3 (ipykernel)",
   "language": "python",
   "name": "python3"
  },
  "language_info": {
   "codemirror_mode": {
    "name": "ipython",
    "version": 3
   },
   "file_extension": ".py",
   "mimetype": "text/x-python",
   "name": "python",
   "nbconvert_exporter": "python",
   "pygments_lexer": "ipython3",
   "version": "3.11.5"
  }
 },
 "nbformat": 4,
 "nbformat_minor": 5
}
